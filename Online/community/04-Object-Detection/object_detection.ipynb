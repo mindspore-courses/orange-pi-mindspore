{
 "cells": [
  {
   "cell_type": "markdown",
   "id": "0e0cc639",
   "metadata": {},
   "source": [
    "# Object Detection\n",
    "模型: `facebook/detr-resnet-50`  \n",
    "框架: `MindSpore` + `Mindnlp`  \n",
    "环境: 香橙派 AIpro（8T/16G） + Ubuntu + MindSpore 2.6.0 + MindNLP 0.4.1  \n",
    "目标: 实现目标检测任务，预测图像中每个实体的类别"
   ]
  },
  {
   "cell_type": "code",
   "execution_count": 10,
   "id": "b558b5dc",
   "metadata": {},
   "outputs": [
    {
     "name": "stdout",
     "output_type": "stream",
     "text": [
      "Traceback (most recent call last):\n",
      "  File \"/usr/local/miniconda3/envs/img/bin/pip\", line 8, in <module>\n",
      "    sys.exit(main())\n",
      "  File \"/usr/local/miniconda3/envs/img/lib/python3.9/site-packages/pip/_internal/cli/main.py\", line 78, in main\n",
      "    command = create_command(cmd_name, isolated=(\"--isolated\" in cmd_args))\n",
      "  File \"/usr/local/miniconda3/envs/img/lib/python3.9/site-packages/pip/_internal/commands/__init__.py\", line 121, in create_command\n",
      "    module = importlib.import_module(module_path)\n",
      "  File \"/usr/local/miniconda3/envs/img/lib/python3.9/importlib/__init__.py\", line 127, in import_module\n",
      "    return _bootstrap._gcd_import(name[level:], package, level)\n",
      "  File \"<frozen importlib._bootstrap>\", line 1030, in _gcd_import\n",
      "  File \"<frozen importlib._bootstrap>\", line 1007, in _find_and_load\n",
      "  File \"<frozen importlib._bootstrap>\", line 986, in _find_and_load_unlocked\n",
      "  File \"<frozen importlib._bootstrap>\", line 680, in _load_unlocked\n",
      "  File \"<frozen importlib._bootstrap_external>\", line 850, in exec_module\n",
      "  File \"<frozen importlib._bootstrap>\", line 228, in _call_with_frames_removed\n",
      "  File \"/usr/local/miniconda3/envs/img/lib/python3.9/site-packages/pip/_internal/commands/install.py\", line 13, in <module>\n",
      "    from pip._vendor.requests.exceptions import InvalidProxyURL\n",
      "  File \"/usr/local/miniconda3/envs/img/lib/python3.9/site-packages/pip/_vendor/requests/__init__.py\", line 43, in <module>\n",
      "    from pip._vendor import urllib3\n",
      "  File \"/usr/local/miniconda3/envs/img/lib/python3.9/site-packages/pip/_vendor/urllib3/__init__.py\", line 13, in <module>\n",
      "    from .connectionpool import HTTPConnectionPool, HTTPSConnectionPool, connection_from_url\n",
      "  File \"/usr/local/miniconda3/envs/img/lib/python3.9/site-packages/pip/_vendor/urllib3/connectionpool.py\", line 13, in <module>\n",
      "    from .connection import (\n",
      "  File \"/usr/local/miniconda3/envs/img/lib/python3.9/site-packages/pip/_vendor/urllib3/connection.py\", line 15, in <module>\n",
      "    from .util.proxy import create_proxy_ssl_context\n",
      "  File \"/usr/local/miniconda3/envs/img/lib/python3.9/site-packages/pip/_vendor/urllib3/util/__init__.py\", line 8, in <module>\n",
      "    from .ssl_ import (\n",
      "  File \"/usr/local/miniconda3/envs/img/lib/python3.9/site-packages/pip/_vendor/urllib3/util/ssl_.py\", line 17, in <module>\n",
      "    from .url import BRACELESS_IPV6_ADDRZ_RE, IPV4_RE\n",
      "  File \"/usr/local/miniconda3/envs/img/lib/python3.9/site-packages/pip/_vendor/urllib3/util/url.py\", line 71, in <module>\n",
      "    _HOST_PORT_RE = re.compile(_HOST_PORT_PAT, re.UNICODE | re.DOTALL)\n",
      "  File \"/usr/local/miniconda3/envs/img/lib/python3.9/re.py\", line 252, in compile\n",
      "    return _compile(pattern, flags)\n",
      "  File \"/usr/local/miniconda3/envs/img/lib/python3.9/re.py\", line 304, in _compile\n",
      "    p = sre_compile.compile(pattern, flags)\n",
      "  File \"/usr/local/miniconda3/envs/img/lib/python3.9/sre_compile.py\", line 788, in compile\n",
      "    p = sre_parse.parse(p, flags)\n",
      "  File \"/usr/local/miniconda3/envs/img/lib/python3.9/sre_parse.py\", line 955, in parse\n",
      "    p = _parse_sub(source, state, flags & SRE_FLAG_VERBOSE, 0)\n",
      "  File \"/usr/local/miniconda3/envs/img/lib/python3.9/sre_parse.py\", line 444, in _parse_sub\n",
      "    itemsappend(_parse(source, state, verbose, nested + 1,\n",
      "  File \"/usr/local/miniconda3/envs/img/lib/python3.9/sre_parse.py\", line 841, in _parse\n",
      "    p = _parse_sub(source, state, sub_verbose, nested + 1)\n",
      "  File \"/usr/local/miniconda3/envs/img/lib/python3.9/sre_parse.py\", line 444, in _parse_sub\n",
      "    itemsappend(_parse(source, state, verbose, nested + 1,\n",
      "  File \"/usr/local/miniconda3/envs/img/lib/python3.9/sre_parse.py\", line 841, in _parse\n",
      "    p = _parse_sub(source, state, sub_verbose, nested + 1)\n",
      "  File \"/usr/local/miniconda3/envs/img/lib/python3.9/sre_parse.py\", line 444, in _parse_sub\n",
      "    itemsappend(_parse(source, state, verbose, nested + 1,\n",
      "  File \"/usr/local/miniconda3/envs/img/lib/python3.9/sre_parse.py\", line 841, in _parse\n",
      "    p = _parse_sub(source, state, sub_verbose, nested + 1)\n",
      "  File \"/usr/local/miniconda3/envs/img/lib/python3.9/sre_parse.py\", line 444, in _parse_sub\n",
      "    itemsappend(_parse(s^C\n"
     ]
    }
   ],
   "source": [
    "!pip install mindnlp==0.4.1 pillow sympy "
   ]
  },
  {
   "cell_type": "code",
   "execution_count": null,
   "id": "88811daf",
   "metadata": {},
   "outputs": [],
   "source": [
    "from PIL import Image,ImageDraw\n",
    "import mindspore as ms\n",
    "from mindspore import ops, Tensor\n",
    "import numpy as np\n",
    "\n",
    "import matplotlib.pyplot as plt\n",
    "import matplotlib.patches as patches\n",
    "\n",
    "from mindnlp.transformers import DetrImageProcessor, DetrForObjectDetection"
   ]
  },
  {
   "cell_type": "markdown",
   "id": "bb2e2af3",
   "metadata": {},
   "source": [
    "### 加载模型"
   ]
  },
  {
   "cell_type": "code",
   "execution_count": null,
   "id": "9a54f7b7",
   "metadata": {},
   "outputs": [],
   "source": [
    "# 初始化处理器和模型\n",
    "processor = DetrImageProcessor.from_pretrained(\"facebook/detr-resnet-50\", revision=\"no_timm\")\n",
    "model = DetrForObjectDetection.from_pretrained(\"facebook/detr-resnet-50\", revision=\"no_timm\")\n"
   ]
  },
  {
   "cell_type": "markdown",
   "id": "125212a4",
   "metadata": {},
   "source": [
    "### 加载图像并进行推理"
   ]
  },
  {
   "cell_type": "code",
   "execution_count": null,
   "id": "be8311db",
   "metadata": {},
   "outputs": [],
   "source": [
    "image_path = \"image.png\"\n",
    "image = Image.open(image_path).convert(\"RGB\")\n",
    "\n",
    "inputs_np = processor(images=image, return_tensors=\"np\")\n",
    "inputs = {k: Tensor(v, dtype=ms.float32) for k, v in inputs_np.items()}\n",
    "\n",
    "outputs = model(**inputs)"
   ]
  },
  {
   "cell_type": "markdown",
   "id": "01827538",
   "metadata": {},
   "source": [
    "### 对推理结果进行处理提取出识别结果内容"
   ]
  },
  {
   "cell_type": "code",
   "execution_count": null,
   "id": "4ae5607f",
   "metadata": {},
   "outputs": [],
   "source": [
    "\n",
    "target_sizes = Tensor([image.size[::-1]])\n",
    "results = processor.post_process_object_detection(outputs, target_sizes=target_sizes, threshold=0.9)[0]\n",
    "\n",
    "for score, label, box in zip(results[\"scores\"], results[\"labels\"], results[\"boxes\"]):\n",
    "    box = [round(i, 2) for i in box.tolist()]\n",
    "    print(\n",
    "            f\"Detected {model.config.id2label[label.item()]} with confidence \"\n",
    "            f\"{round(score.item(), 3)} at location {box}\"\n",
    "    )"
   ]
  },
  {
   "cell_type": "markdown",
   "id": "78c2234a",
   "metadata": {},
   "source": [
    "### 展示识别结果"
   ]
  },
  {
   "cell_type": "code",
   "execution_count": null,
   "id": "47930681",
   "metadata": {},
   "outputs": [],
   "source": [
    "# 创建图像副本用于绘制\n",
    "image_with_boxes = image.copy()\n",
    "draw = ImageDraw.Draw(image_with_boxes)\n",
    "\n",
    "# 设置颜色列表\n",
    "colors = ['red', 'blue', 'green', 'orange', 'purple', 'brown', 'pink', 'gray', 'olive', 'cyan']\n",
    "\n",
    "# 绘制边界框和标签\n",
    "for score, label, box in zip(results[\"scores\"], results[\"labels\"], results[\"boxes\"]):\n",
    "    # 转换坐标\n",
    "    box = [round(i, 2) for i in box.tolist()]\n",
    "    x_min, y_min, x_max, y_max = box\n",
    "    \n",
    "    # 获取类别名称和置信度\n",
    "    class_name = model.config.id2label[label.item()]\n",
    "    confidence = round(score.item(), 3)\n",
    "    \n",
    "    # 选择颜色\n",
    "    color_idx = label.item() % len(colors)\n",
    "    color = colors[color_idx]\n",
    "    \n",
    "    # 绘制边界框\n",
    "    draw.rectangle([x_min, y_min, x_max, y_max], outline=color, width=3)\n",
    "    \n",
    "    # 绘制标签背景\n",
    "    label_text = f\"{class_name}: {confidence}\"\n",
    "    bbox = draw.textbbox((x_min, y_min), label_text)\n",
    "    draw.rectangle(bbox, fill=color)\n",
    "    \n",
    "    # 绘制标签文本\n",
    "    draw.text((x_min, y_min), label_text, fill=\"white\")\n",
    "\n",
    "# 使用matplotlib显示\n",
    "plt.figure(figsize=(12, 8))\n",
    "plt.imshow(np.array(image_with_boxes))\n",
    "plt.axis('off')\n",
    "plt.title('Object Detection Results', fontsize=16)\n",
    "plt.tight_layout()\n",
    "plt.show()\n",
    "\n"
   ]
  }
 ],
 "metadata": {
  "kernelspec": {
   "display_name": "img",
   "language": "python",
   "name": "python3"
  },
  "language_info": {
   "codemirror_mode": {
    "name": "ipython",
    "version": 3
   },
   "file_extension": ".py",
   "mimetype": "text/x-python",
   "name": "python",
   "nbconvert_exporter": "python",
   "pygments_lexer": "ipython3",
   "version": "3.9.23"
  }
 },
 "nbformat": 4,
 "nbformat_minor": 5
}
