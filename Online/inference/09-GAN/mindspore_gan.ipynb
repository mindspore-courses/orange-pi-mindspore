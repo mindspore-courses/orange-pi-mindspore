{
 "cells": [
  {
   "cell_type": "markdown",
   "metadata": {},
   "source": [
    "# GAN图像生成"
   ]
  },
  {
   "cell_type": "markdown",
   "metadata": {
    "jp-MarkdownHeadingCollapsed": true
   },
   "source": [
    "## 模型简介\n",
    "\n",
    "生成式对抗网络(Generative Adversarial Networks，GAN)是一种生成式机器学习模型，是近年来复杂分布上无监督学习最具前景的方法之一。\n",
    "\n",
    "最初，GAN由Ian J. Goodfellow于2014年发明，并在论文[Generative Adversarial Nets](https://papers.nips.cc/paper/5423-generative-adversarial-nets.pdf)中首次进行了描述，其主要由两个不同的模型共同组成——生成器(Generative Model)和判别器(Discriminative Model)：\n",
    "\n",
    "- 生成器的任务是生成看起来像训练图像的“假”图像；\n",
    "- 判别器需要判断从生成器输出的图像是真实的训练图像还是虚假的图像。\n",
    "\n",
    "GAN通过设计生成模型和判别模型这两个模块，使其互相博弈学习产生了相当好的输出。\n",
    "\n",
    "GAN模型的核心在于提出了通过对抗过程来估计生成模型这一全新框架。在这个框架中，将会同时训练两个模型——捕捉数据分布的生成模型 $G$ 和估计样本是否来自训练数据的判别模型 $D$ 。\n",
    "\n",
    "在训练过程中，生成器会不断尝试通过生成更好的假图像来骗过判别器，而判别器在这过程中也会逐步提升判别能力。这种博弈的平衡点是，当生成器生成的假图像和训练数据图像的分布完全一致时，判别器拥有50%的真假判断置信度。\n",
    "\n",
    "用 $x$ 代表图像数据，用 $D(x)$表示判别器网络给出图像判定为真实图像的概率。在判别过程中，$D(x)$ 需要处理作为二进制文件的大小为 $1\\times 28\\times 28$ 的图像数据。当 $x$ 来自训练数据时，$D(x)$ 数值应该趋近于 $1$ ；而当 $x$ 来自生成器时，$D(x)$ 数值应该趋近于 $0$ 。因此 $D(x)$ 也可以被认为是传统的二分类器。\n",
    "\n",
    "用 $z$ 代表标准正态分布中提取出的隐码(隐向量)，用 $G(z)$：表示将隐码(隐向量) $z$ 映射到数据空间的生成器函数。函数 $G(z)$ 的目标是将服从高斯分布的随机噪声 $z$ 通过生成网络变换为近似于真实分布 $p_{data}(x)$ 的数据分布，我们希望找到 $θ$ 使得 $p_{G}(x;\\theta)$ 和 $p_{data}(x)$ 尽可能的接近，其中 $\\theta$ 代表网络参数。\n",
    "\n",
    "$D(G(z))$ 表示生成器 $G$ 生成的假图像被判定为真实图像的概率，如[Generative Adversarial Nets](https://papers.nips.cc/paper/5423-generative-adversarial-nets.pdf)中所述，$D$ 和 $G$ 在进行一场博弈，$D$ 想要最大程度的正确分类真图像与假图像，也就是参数 $\\log D(x)$；而 $G$ 试图欺骗 $D$ 来最小化假图像被识别到的概率，也就是参数 $\\log(1−D(G(z)))$。因此GAN的损失函数为：\n",
    "\n",
    "$$\n",
    "\\min\\limits_{G}\\max\\limits_{D} V(D,G)=E_{x\\sim p_{data}\\;\\,(x)}[\\log D(x)]+E_{z\\sim p_{z}\\,(z)}[\\log (1-D(G(z)))]\n",
    "$$\n",
    "\n",
    "从理论上讲，此博弈游戏的平衡点是$p_{G}(x;\\theta) = p_{data}(x)$，此时判别器会随机猜测输入是真图像还是假图像。下面我们简要说明生成器和判别器的博弈过程：\n",
    "\n",
    "1. 在训练刚开始的时候，生成器和判别器的质量都比较差，生成器会随机生成一个数据分布。\n",
    "2. 判别器通过求取梯度和损失函数对网络进行优化，将靠近真实数据分布的数据判定为1，将靠近生成器生成出来数据分布的数据判定为0。\n",
    "3. 生成器通过优化，生成出更加贴近真实数据分布的数据。\n",
    "4. 生成器所生成的数据和真实数据达到相同的分布，此时判别器的输出为1/2。\n",
    "\n",
    "![gan](https://mindspore-website.obs.cn-north-4.myhuaweicloud.com/website-images/r2.2/tutorials/application/source_zh_cn/cv/images/gan_image.png)\n",
    "\n",
    "在上图中，蓝色虚线表示判别器，黑色虚线表示真实数据分布，绿色实线表示生成器生成的虚假数据分布，$z$ 表示隐码，$x$ 表示生成的虚假图像 $G(z)$。该图片来源于[Generative Adversarial Nets](https://papers.nips.cc/paper/5423-generative-adversarial-nets.pdf)。详细的训练方法介绍见原论文。\n",
    "\n",
    "\n"
   ]
  },
  {
   "cell_type": "markdown",
   "metadata": {},
   "source": [
    "## 环境准备\n",
    "\n",
    "开发者拿到香橙派开发板后，首先需要进行硬件资源确认，镜像烧录及CANN和MindSpore版本的升级，才可运行该案例，具体如下：\n",
    "\n",
    "- 硬件： 香橙派AIpro 24G 20T开发板\n",
    "- 镜像： 香橙派官网ubuntu镜像\n",
    "- CANN：8.1.RC1\n",
    "- MindSpore： 2.6.0\n",
    "\n",
    "### 镜像烧录\n",
    "\n",
    "运行该案例需要烧录香橙派官网ubuntu镜像，烧录流程参考[昇思MindSpore官网--香橙派开发专区--环境搭建指南--镜像烧录](https://www.mindspore.cn/docs/zh-CN/r2.4.10/orange_pi/environment_setup.html#1-%E9%95%9C%E5%83%8F%E7%83%A7%E5%BD%95%E4%BB%A5windows%E7%B3%BB%E7%BB%9F%E4%B8%BA%E4%BE%8B)章节。\n",
    "\n",
    "### CANN升级\n",
    "\n",
    "CANN升级参考[昇思MindSpore官网--香橙派开发专区--环境搭建指南--CANN升级](https://www.mindspore.cn/docs/zh-CN/r2.4.10/orange_pi/environment_setup.html#3-cann%E5%8D%87%E7%BA%A7)章节。\n",
    "\n",
    "### MindSpore升级\n",
    "\n",
    "MindSpore升级参考[昇思MindSpore官网--香橙派开发专区--环境搭建指南--MindSpore升级](https://www.mindspore.cn/docs/zh-CN/r2.4.10/orange_pi/environment_setup.html#4-mindspore%E5%8D%87%E7%BA%A7)章节。"
   ]
  },
  {
   "cell_type": "markdown",
   "metadata": {},
   "source": [
    "## 设置运行环境\n",
    "\n",
    "由于资源限制，需开启性能优化模式，具体设置如下参数：\n",
    "\n",
    " max_device_memory=\"2GB\" : 设置设备可用的最大内存为2GB。\n",
    "\n",
    " mode=mindspore.PYNATIVE_MODE : 表示在PYNATIVE_MODE模式中运行。\n",
    "\n",
    " device_target=\"Ascend\" : 表示待运行的目标设备为Ascend。\n",
    "\n",
    " jit_config={\"jit_level\":\"O2\"} : 编译优化级别开启极致性能优化，使用下沉的执行方式。\n",
    "\n",
    " ascend_config={\"precision_mode\":\"allow_mix_precision\"} : 自动混合精度，自动将部分算子的精度降低到float16或bfloat16。"
   ]
  },
  {
   "cell_type": "code",
   "execution_count": null,
   "metadata": {},
   "outputs": [
    {
     "name": "stderr",
     "output_type": "stream",
     "text": [
      "/home/HwHiAiUser/.conda/envs/mindspore2.6_py39/lib/python3.9/site-packages/numpy/core/getlimits.py:549: UserWarning: The value of the smallest subnormal for <class 'numpy.float64'> type is zero.\n",
      "  setattr(self, word, getattr(machar, word).flat[0])\n",
      "/home/HwHiAiUser/.conda/envs/mindspore2.6_py39/lib/python3.9/site-packages/numpy/core/getlimits.py:89: UserWarning: The value of the smallest subnormal for <class 'numpy.float64'> type is zero.\n",
      "  return self._float_to_str(self.smallest_subnormal)\n",
      "/home/HwHiAiUser/.conda/envs/mindspore2.6_py39/lib/python3.9/site-packages/numpy/core/getlimits.py:549: UserWarning: The value of the smallest subnormal for <class 'numpy.float32'> type is zero.\n",
      "  setattr(self, word, getattr(machar, word).flat[0])\n",
      "/home/HwHiAiUser/.conda/envs/mindspore2.6_py39/lib/python3.9/site-packages/numpy/core/getlimits.py:89: UserWarning: The value of the smallest subnormal for <class 'numpy.float32'> type is zero.\n",
      "  return self._float_to_str(self.smallest_subnormal)\n",
      "[WARNING] ME(25401:255086413152288,MainProcess):2025-10-14-10:58:00.528.854 [mindspore/context.py:1402] For 'context.set_context', the parameter 'max_device_memory' will be deprecated and removed in a future version. Please use the api mindspore.runtime.set_memory() instead.\n",
      "[WARNING] ME(25401:255086413152288,MainProcess):2025-10-14-10:58:00.530.689 [mindspore/context.py:1402] For 'context.set_context', the parameter 'device_target' will be deprecated and removed in a future version. Please use the api mindspore.set_device() instead.\n"
     ]
    }
   ],
   "source": [
    "import mindspore as ms\n",
    "from mindspore.device_context import ascend\n",
    "\n",
    "# 核心：用 set_context 配置所有环境（含内存限制，唯一兼容2.6.0的方式）\n",
    "# 注：max_device_memory 虽有警告，但2.6.0中可正常生效，不影响功能\n",
    "ms.set_context(\n",
    "    max_device_memory=\"2GB\",    # 设备最大内存限制（解决资源限制需求）\n",
    "    mode=ms.GRAPH_MODE,         # 图模式（符合你的性能优化要求）\n",
    "    device_target=\"Ascend\",     # 目标设备为Ascend（匹配硬件）\n",
    "    jit_config={\"jit_level\": \"O2\"}  # 编译优化O2（极致性能）\n",
    ")\n",
    "# 配置自动混合精度（替代旧的 ascend_config，按官方警告提示用新API）\n",
    "ascend.op_precision.precision_mode(\"allow_mix_precision\")"
   ]
  },
  {
   "cell_type": "markdown",
   "metadata": {},
   "source": [
    "## 数据集准备与处理\n",
    "\n",
    "### 数据集简介\n",
    "\n",
    "[MNIST手写数字数据集](http://yann.lecun.com/exdb/mnist/)是NIST数据集的子集，共有70000张手写数字图片，包含60000张训练样本和10000张测试样本，数字图片为二进制文件，图片大小为28\\*28，单通道。图片已经预先进行了尺寸归一化和中心化处理。\n",
    "\n",
    "本案例将使用MNIST手写数字数据集来训练一个生成式对抗网络，使用该网络模拟生成手写数字图片。\n",
    "\n",
    "### 数据集下载\n",
    "\n",
    "使用`download`接口下载数据集，并将下载后的数据集自动解压到当前目录下。数据下载之前需要使用`pip install download`安装`download`包。\n",
    "\n",
    "下载解压后的数据集目录结构如下：\n",
    "\n",
    "```text\n",
    "./MNIST_Data/\n",
    "├─ train\n",
    "│ ├─ train-images-idx3-ubyte\n",
    "│ └─ train-labels-idx1-ubyte\n",
    "└─ test\n",
    "   ├─ t10k-images-idx3-ubyte\n",
    "   └─ t10k-labels-idx1-ubyte\n",
    "```\n",
    "\n",
    "数据下载的代码如下："
   ]
  },
  {
   "cell_type": "code",
   "execution_count": 2,
   "metadata": {},
   "outputs": [
    {
     "name": "stdout",
     "output_type": "stream",
     "text": [
      "Looking in indexes: https://pypi.tuna.tsinghua.edu.cn/simple\n",
      "Requirement already satisfied: download in /home/HwHiAiUser/.conda/envs/mindspore2.6_py39/lib/python3.9/site-packages (0.3.5)\n",
      "Requirement already satisfied: tqdm in /home/HwHiAiUser/.conda/envs/mindspore2.6_py39/lib/python3.9/site-packages (from download) (4.67.1)\n",
      "Requirement already satisfied: six in /home/HwHiAiUser/.conda/envs/mindspore2.6_py39/lib/python3.9/site-packages (from download) (1.17.0)\n",
      "Requirement already satisfied: requests in /home/HwHiAiUser/.conda/envs/mindspore2.6_py39/lib/python3.9/site-packages (from download) (2.32.5)\n",
      "Requirement already satisfied: charset_normalizer<4,>=2 in /home/HwHiAiUser/.conda/envs/mindspore2.6_py39/lib/python3.9/site-packages (from requests->download) (3.4.3)\n",
      "Requirement already satisfied: idna<4,>=2.5 in /home/HwHiAiUser/.conda/envs/mindspore2.6_py39/lib/python3.9/site-packages (from requests->download) (3.10)\n",
      "Requirement already satisfied: urllib3<3,>=1.21.1 in /home/HwHiAiUser/.conda/envs/mindspore2.6_py39/lib/python3.9/site-packages (from requests->download) (2.5.0)\n",
      "Requirement already satisfied: certifi>=2017.4.17 in /home/HwHiAiUser/.conda/envs/mindspore2.6_py39/lib/python3.9/site-packages (from requests->download) (2025.8.3)\n"
     ]
    }
   ],
   "source": [
    "#install download\n",
    "\n",
    "!pip install download"
   ]
  },
  {
   "cell_type": "code",
   "execution_count": 2,
   "metadata": {
    "ExecuteTime": {
     "end_time": "2023-02-09T09:45:06.383718Z",
     "start_time": "2023-02-09T09:44:40.500860Z"
    }
   },
   "outputs": [
    {
     "name": "stdout",
     "output_type": "stream",
     "text": [
      "Downloading data from https://mindspore-website.obs.cn-north-4.myhuaweicloud.com/notebook/datasets/MNIST_Data.zip (10.3 MB)\n",
      "\n",
      "file_sizes: 100%|██████████████████████████| 10.8M/10.8M [00:02<00:00, 3.78MB/s]\n",
      "Extracting zip file...\n",
      "Successfully downloaded / unzipped to .\n"
     ]
    },
    {
     "data": {
      "text/plain": [
       "'.'"
      ]
     },
     "execution_count": 2,
     "metadata": {},
     "output_type": "execute_result"
    }
   ],
   "source": [
    "# 数据下载\n",
    "from download import download\n",
    "\n",
    "url = \"https://mindspore-website.obs.cn-north-4.myhuaweicloud.com/notebook/datasets/MNIST_Data.zip\"\n",
    "download(url, \".\", kind=\"zip\", replace=True)"
   ]
  },
  {
   "cell_type": "markdown",
   "metadata": {},
   "source": [
    "### 数据加载\n",
    "\n",
    "使用MindSpore自己的`MnistDatase`接口，读取和解析MNIST数据集的源文件构建数据集。然后对数据进行一些前处理，包含数据转换、数据增强、批量处理。"
   ]
  },
  {
   "cell_type": "code",
   "execution_count": 2,
   "metadata": {
    "ExecuteTime": {
     "end_time": "2023-02-09T09:45:20.017779Z",
     "start_time": "2023-02-09T09:45:06.385713Z"
    }
   },
   "outputs": [
    {
     "name": "stdout",
     "output_type": "stream",
     "text": [
      "Iter size: 468\n"
     ]
    }
   ],
   "source": [
    "import numpy as np\n",
    "import mindspore.dataset as ds\n",
    "\n",
    "batch_size = 128\n",
    "latent_size = 100  # 隐码的长度\n",
    "\n",
    "train_dataset = ds.MnistDataset(dataset_dir='./MNIST_Data/train')\n",
    "test_dataset = ds.MnistDataset(dataset_dir='./MNIST_Data/test')\n",
    "\n",
    "def data_load(dataset):\n",
    "    dataset1 = ds.GeneratorDataset(dataset, [\"image\", \"label\"], shuffle=True, python_multiprocessing=False)\n",
    "    # 数据增强\n",
    "    mnist_ds = dataset1.map(\n",
    "        operations=lambda x: (x.astype(\"float32\"), np.random.normal(size=latent_size).astype(\"float32\")),\n",
    "        output_columns=[\"image\", \"latent_code\"])\n",
    "    mnist_ds = mnist_ds.project([\"image\", \"latent_code\"])\n",
    "\n",
    "    # 批量操作\n",
    "    mnist_ds = mnist_ds.batch(batch_size, True)\n",
    "\n",
    "    return mnist_ds\n",
    "\n",
    "mnist_ds = data_load(train_dataset)\n",
    "\n",
    "iter_size = mnist_ds.get_dataset_size()\n",
    "print('Iter size: %d' % iter_size)"
   ]
  },
  {
   "cell_type": "markdown",
   "metadata": {},
   "source": [
    "### 数据集可视化\n",
    "\n",
    "通过`create_dict_iterator`函数将数据转换成字典迭代器，然后使用`matplotlib`模块可视化部分训练数据。"
   ]
  },
  {
   "cell_type": "code",
   "execution_count": 3,
   "metadata": {
    "ExecuteTime": {
     "end_time": "2023-02-09T09:45:21.094899Z",
     "start_time": "2023-02-09T09:45:20.018778Z"
    }
   },
   "outputs": [
    {
     "data": {
      "image/png": "[encoded data removed]",
      "text/plain": [
       "<Figure size 300x300 with 25 Axes>"
      ]
     },
     "metadata": {},
     "output_type": "display_data"
    }
   ],
   "source": [
    "import matplotlib.pyplot as plt\n",
    "\n",
    "data_iter = next(mnist_ds.create_dict_iterator(output_numpy=True))\n",
    "figure = plt.figure(figsize=(3, 3))\n",
    "cols, rows = 5, 5\n",
    "for idx in range(1, cols * rows + 1):\n",
    "    image = data_iter['image'][idx]\n",
    "    figure.add_subplot(rows, cols, idx)\n",
    "    plt.axis(\"off\")\n",
    "    plt.imshow(image.squeeze(), cmap=\"gray\")\n",
    "plt.show()"
   ]
  },
  {
   "cell_type": "markdown",
   "metadata": {},
   "source": [
    "## 模型构建\n",
    "\n",
    "本案例实现中所搭建的 GAN 模型结构与原论文中提出的 GAN 结构大致相同，但由于所用数据集 MNIST 为单通道小尺寸图片，可识别参数少，便于训练，我们在判别器和生成器中采用全连接网络架构和 `ReLU` 激活函数即可达到令人满意的效果，且省略了原论文中用于减少参数的 `Dropout` 策略和可学习激活函数 `Maxout`。"
   ]
  },
  {
   "cell_type": "markdown",
   "metadata": {},
   "source": [
    "### 生成器\n",
    "\n",
    "生成器 `Generator` 的功能是将隐码映射到数据空间。由于数据是图像，这一过程也会创建与真实图像大小相同的灰度图像(或 RGB 彩色图像)。在本案例演示中，该功能通过五层 `Dense` 全连接层来完成的，每层都与 `BatchNorm1d` 批归一化层和 `ReLU` 激活层配对，输出数据会经过 `Tanh` 函数，使其返回 [-1,1] 的数据范围内。注意实例化生成器之后需要修改参数的名称，不然静态图模式下会报错。"
   ]
  },
  {
   "cell_type": "code",
   "execution_count": 4,
   "metadata": {
    "ExecuteTime": {
     "end_time": "2023-02-09T09:45:21.190676Z",
     "start_time": "2023-02-09T09:45:21.153742Z"
    }
   },
   "outputs": [],
   "source": [
    "from mindspore import nn\n",
    "import mindspore.ops as ops\n",
    "import mindspore as ms\n",
    "import mindspore.mint.nn as mint_nn\n",
    "img_size = 28  # 训练图像长（宽）\n",
    "\n",
    "class Generator(nn.Cell):\n",
    "    def __init__(self, latent_size, auto_prefix=True):\n",
    "        super(Generator, self).__init__(auto_prefix=auto_prefix)\n",
    "        self.model = nn.SequentialCell()\n",
    "        # [N, 100] -> [N, 128]\n",
    "        # 输入一个100维的0～1之间的高斯分布，然后通过第一层线性变换将其映射到256维\n",
    "        self.model.append(mint_nn.Linear(latent_size, 128))\n",
    "        self.model.append(mint_nn.ReLU())\n",
    "        # [N, 128] -> [N, 256]\n",
    "        self.model.append(mint_nn.Linear(128, 256))\n",
    "        self.model.append(mint_nn.BatchNorm1d(256))\n",
    "        self.model.append(mint_nn.ReLU())\n",
    "        # [N, 256] -> [N, 512]\n",
    "        self.model.append(mint_nn.Linear(256, 512))\n",
    "        self.model.append(mint_nn.BatchNorm1d(512))\n",
    "        self.model.append(mint_nn.ReLU())\n",
    "        # [N, 512] -> [N, 1024]\n",
    "        self.model.append(mint_nn.Linear(512, 1024))\n",
    "        self.model.append(mint_nn.BatchNorm1d(1024))\n",
    "        self.model.append(mint_nn.ReLU())\n",
    "        # [N, 1024] -> [N, 784]\n",
    "        # 经过线性变换将其变成784维\n",
    "        self.model.append(mint_nn.Linear(1024, img_size * img_size))\n",
    "        # 经过Tanh激活函数是希望生成的假的图片数据分布能够在-1～1之间\n",
    "        self.model.append(mint_nn.Tanh())\n",
    "\n",
    "    def construct(self, x):\n",
    "        img = self.model(x)\n",
    "        return ops.reshape(img, (-1, 1, 28, 28))\n",
    "\n",
    "net_g = Generator(latent_size)\n",
    "net_g.update_parameters_name('generator')\n",
    "\n"
   ]
  },
  {
   "cell_type": "markdown",
   "metadata": {},
   "source": [
    "### 判别器\n",
    "\n",
    "如前所述，判别器 `Discriminator` 是一个二分类网络模型，输出判定该图像为真实图的概率。主要通过一系列的 `Dense` 层和 `LeakyReLU` 层对其进行处理，最后通过 `Sigmoid` 激活函数，使其返回 [0, 1] 的数据范围内，得到最终概率。注意实例化判别器之后需要修改参数的名称，不然静态图模式下会报错。"
   ]
  },
  {
   "cell_type": "code",
   "execution_count": 5,
   "metadata": {
    "ExecuteTime": {
     "end_time": "2023-02-09T09:45:21.207645Z",
     "start_time": "2023-02-09T09:45:21.191642Z"
    }
   },
   "outputs": [],
   "source": [
    "class Discriminator(ms.nn.Cell):\n",
    "    def __init__(self, auto_prefix=True):\n",
    "        super().__init__(auto_prefix=auto_prefix)\n",
    "        self.model = ms.nn.SequentialCell()\n",
    "        # [N, 784] -> [N, 512]\n",
    "        self.model.append(ms.mint.nn.Linear(img_size * img_size, 512))  # 输入特征数为784，输出为512\n",
    "        self.model.append(ms.nn.LeakyReLU())  # 默认斜率为0.2的非线性映射激活函数\n",
    "        # [N, 512] -> [N, 256]\n",
    "        self.model.append(ms.mint.nn.Linear(512, 256))  # 进行一个线性映射\n",
    "        self.model.append(ms.nn.LeakyReLU())\n",
    "        # [N, 256] -> [N, 1]\n",
    "        self.model.append(ms.mint.nn.Linear(256, 1))\n",
    "        self.model.append(ms.nn.Sigmoid())  # 二分类激活函数，将实数映射到[0,1]\n",
    "\n",
    "    def construct(self, x):\n",
    "        x_flat = ops.reshape(x, (-1, img_size * img_size))\n",
    "        return self.model(x_flat)\n",
    "\n",
    "net_d = Discriminator()\n",
    "net_d.update_parameters_name('discriminator')"
   ]
  },
  {
   "cell_type": "markdown",
   "metadata": {},
   "source": [
    "## 权重加载\n",
    "\n",
    "下面我们下载已有的生成器网络模型参数文件加载到生成器网络中。"
   ]
  },
  {
   "cell_type": "code",
   "execution_count": 5,
   "metadata": {},
   "outputs": [
    {
     "name": "stdout",
     "output_type": "stream",
     "text": [
      "Downloading data from https://cdn.modelers.cn/lfs/12/9c/073f65f97c5b8bb8f59eb9865a2d8af16eb65160471611984b2f19ed3aab?response-content-disposition=attachment%3B+filename%3D%22Generator199.ckpt%22&AWSAccessKeyId=HAZQA0Q6AQL2GHX4TKTL&Expires=1760497154&Signature=qAl4vcLcvQwrA0FLbNMBHhysKkM%3D (5.8 MB)\n",
      "\n",
      "file_sizes: 100%|██████████████████████████| 6.06M/6.06M [00:01<00:00, 5.17MB/s]\n"
     ]
    },
    {
     "name": "stderr",
     "output_type": "stream",
     "text": [
      "[WARNING] ME(25401:255086413152288,MainProcess):2025-10-14-10:59:16.124.798 [mindspore/train/serialization.py:1860] For 'load_param_into_net', remove parameter prefix name: optim_g, continue to load.\n",
      "[WARNING] ME(25401:255086413152288,MainProcess):2025-10-14-10:59:16.127.275 [mindspore/train/serialization.py:1770] For 'load_param_into_net', 15 parameters in the 'net' are not loaded, because they are not in the 'parameter_dict', please check whether the network structure is consistent when training and loading checkpoint.\n",
      "[WARNING] ME(25401:255086413152288,MainProcess):2025-10-14-10:59:16.129.021 [mindspore/train/serialization.py:1774] ['generatormodel.3.weight', 'generatormodel.3.bias', 'generatormodel.3.running_mean', 'generatormodel.3.running_var', 'generatormodel.3.num_batches_tracked', 'generatormodel.6.weight', 'generatormodel.6.bias', 'generatormodel.6.running_mean', 'generatormodel.6.running_var', 'generatormodel.6.num_batches_tracked', 'generatormodel.9.weight', 'generatormodel.9.bias', 'generatormodel.9.running_mean', 'generatormodel.9.running_var', 'generatormodel.9.num_batches_tracked'] are not loaded.\n"
     ]
    },
    {
     "name": "stdout",
     "output_type": "stream",
     "text": [
      "Successfully downloaded file to ./Generator199.ckpt\n"
     ]
    },
    {
     "data": {
      "text/plain": [
       "(['generatormodel.3.weight',\n",
       "  'generatormodel.3.bias',\n",
       "  'generatormodel.3.running_mean',\n",
       "  'generatormodel.3.running_var',\n",
       "  'generatormodel.3.num_batches_tracked',\n",
       "  'generatormodel.6.weight',\n",
       "  'generatormodel.6.bias',\n",
       "  'generatormodel.6.running_mean',\n",
       "  'generatormodel.6.running_var',\n",
       "  'generatormodel.6.num_batches_tracked',\n",
       "  'generatormodel.9.weight',\n",
       "  'generatormodel.9.bias',\n",
       "  'generatormodel.9.running_mean',\n",
       "  'generatormodel.9.running_var',\n",
       "  'generatormodel.9.num_batches_tracked'],\n",
       " ['optim_ggeneratormodel.0.weight',\n",
       "  'optim_ggeneratormodel.0.bias',\n",
       "  'optim_ggeneratormodel.2.weight',\n",
       "  'optim_ggeneratormodel.2.bias',\n",
       "  'generatormodel.3.moving_mean',\n",
       "  'generatormodel.3.moving_variance',\n",
       "  'optim_ggeneratormodel.3.gamma',\n",
       "  'optim_ggeneratormodel.3.beta',\n",
       "  'optim_ggeneratormodel.5.weight',\n",
       "  'optim_ggeneratormodel.5.bias',\n",
       "  'generatormodel.6.moving_mean',\n",
       "  'generatormodel.6.moving_variance',\n",
       "  'optim_ggeneratormodel.6.gamma',\n",
       "  'optim_ggeneratormodel.6.beta',\n",
       "  'optim_ggeneratormodel.8.weight',\n",
       "  'optim_ggeneratormodel.8.bias',\n",
       "  'generatormodel.9.moving_mean',\n",
       "  'generatormodel.9.moving_variance',\n",
       "  'optim_ggeneratormodel.9.gamma',\n",
       "  'optim_ggeneratormodel.9.beta',\n",
       "  'optim_ggeneratormodel.11.weight',\n",
       "  'optim_ggeneratormodel.11.bias'])"
      ]
     },
     "execution_count": 5,
     "metadata": {},
     "output_type": "execute_result"
    }
   ],
   "source": [
    "import mindspore as ms\n",
    "from download import download\n",
    "# 下载权重\n",
    "gan_url = \"https://modelers.cn/coderepo/web/v1/file/MindSpore-Lab/cluoud_obs/main/media/examples/mindspore-courses/orange-pi-online-infer/09-GAN/Generator199.ckpt\"\n",
    "path = \"./Generator199.ckpt\"\n",
    "\n",
    "ckpt_path = download(gan_url, path, replace=True)\n",
    "parameter = ms.load_checkpoint(ckpt_path)\n",
    "ms.load_param_into_net(net_g, parameter)\n",
    "\n",
    "\n"
   ]
  },
  {
   "cell_type": "markdown",
   "metadata": {},
   "source": [
    "## 模型推理\n",
    "\n",
    "下面我们通过加载生成器网络模型参数文件来生成图像，代码如下："
   ]
  },
  {
   "cell_type": "code",
   "execution_count": 6,
   "metadata": {
    "ExecuteTime": {
     "end_time": "2023-02-09T13:36:54.707633Z",
     "start_time": "2023-02-09T13:36:54.053382Z"
    }
   },
   "outputs": [
    {
     "name": "stderr",
     "output_type": "stream",
     "text": [
      "[ERROR] CORE(25401,e7ffef0b0020,python3.9):2025-10-14-10:59:19.318.512 [mindspore/core/utils/file_utils.cc:253] GetRealPath] Get realpath failed, path[/tmp/ipykernel_25401/1431946685.py]\n",
      "[WARNING] CORE(25401,e7ffef0b0020,python3.9):2025-10-14-10:59:19.318.613 [mindspore/core/utils/info.cc:125] ToString] The file '/tmp/ipykernel_25401/1431946685.py' may not exists.\n"
     ]
    },
    {
     "name": "stdout",
     "output_type": "stream",
     "text": [
      "."
     ]
    },
    {
     "name": "stderr",
     "output_type": "stream",
     "text": [
      "Generating images: 100%|████████████████████████████████████████████████████| 25/25 [00:00<00:00, 43.15it/s]\n"
     ]
    },
    {
     "data": {
      "image/png": "[encoded data removed]",
      "text/plain": [
       "<Figure size 360x360 with 25 Axes>"
      ]
     },
     "metadata": {},
     "output_type": "display_data"
    }
   ],
   "source": [
    "from tqdm import tqdm\n",
    "from mindspore import Tensor\n",
    "\n",
    "# 模型生成结果\n",
    "test_data = Tensor(np.random.normal(0, 1, (25, 100)).astype(np.float32))\n",
    "images = net_g(test_data).transpose(0, 2, 3, 1).asnumpy()\n",
    "# 结果展示\n",
    "fig = plt.figure(figsize=(3, 3), dpi=120)\n",
    "for i in tqdm(range(25), desc=\"Generating images\"):\n",
    "    fig.add_subplot(5, 5, i + 1)\n",
    "    plt.axis(\"off\")\n",
    "    plt.imshow(images[i].squeeze(), cmap=\"gray\")\n",
    "plt.show()"
   ]
  },
  {
   "cell_type": "markdown",
   "metadata": {},
   "source": [
    "本案例已同步上线 [GitHub 仓](https://github.com/mindspore-courses/orange-pi-mindspore/tree/master/Online/09-GAN)，更多案例开发亦可参考该仓库。\n",
    "\n",
    "本案例运行所需环境：\n",
    "\n",
    "- **硬件**：香橙派 AIpro 24G 20T 开发板\n",
    "- **镜像**：香橙派官网 Ubuntu 镜像\n",
    "- **CANN**：8.1.RC1\n",
    "- **MindSpore**：2.6.0"
   ]
  }
 ],
 "metadata": {
  "kernelspec": {
   "display_name": "Python 3 (ipykernel)",
   "language": "python",
   "name": "python3"
  },
  "language_info": {
   "codemirror_mode": {
    "name": "ipython",
    "version": 3
   },
   "file_extension": ".py",
   "mimetype": "text/x-python",
   "name": "python",
   "nbconvert_exporter": "python",
   "pygments_lexer": "ipython3",
   "version": "3.9.23"
  },
  "toc": {
   "base_numbering": 1,
   "nav_menu": {},
   "number_sections": true,
   "sideBar": true,
   "skip_h1_title": false,
   "title_cell": "Table of Contents",
   "title_sidebar": "Contents",
   "toc_cell": false,
   "toc_position": {},
   "toc_section_display": true,
   "toc_window_display": true
  }
 },
 "nbformat": 4,
 "nbformat_minor": 4
}
