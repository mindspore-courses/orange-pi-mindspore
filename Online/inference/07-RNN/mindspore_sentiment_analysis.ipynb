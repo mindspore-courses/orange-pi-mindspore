{
 "cells": [
  {
   "cell_type": "markdown",
   "id": "ace41c03-dfa3-4cb6-88bc-bcaa72cfdc85",
   "metadata": {},
   "source": [
    "# RNN实现情感分类\n"
   ]
  },
  {
   "cell_type": "markdown",
   "id": "1823275c-96a6-4c12-839c-623ac2662c6c",
   "metadata": {
    "tags": []
   },
   "source": [
    "## 概述\n",
    "\n",
    "情感分类是自然语言处理中的经典任务，是典型的分类问题。本案例使用MindSpore实现一个基于RNN网络的情感分类模型，实现如下的效果：\n",
    "\n",
    "```text\n",
    "输入: This film is terrible\n",
    "正确标签: Negative\n",
    "预测标签: Negative\n",
    "\n",
    "输入: This film is great\n",
    "正确标签: Positive\n",
    "预测标签: Positive\n",
    "```"
   ]
  },
  {
   "cell_type": "markdown",
   "id": "b0df2583",
   "metadata": {},
   "source": [
    "## 环境准备\n",
    "\n",
    "开发者拿到香橙派开发板后，首先需要进行硬件资源确认，镜像烧录及CANN和MindSpore版本的升级，才可运行该案例，具体如下：\n",
    "\n",
    "- 硬件： 香橙派AIpro 16G 8-12T开发板\n",
    "- 镜像： 香橙派官网ubuntu镜像\n",
    "- CANN：8.0.RC3.alpha002\n",
    "- MindSpore： 2.4.10\n",
    "\n",
    "### 镜像烧录\n",
    "\n",
    "运行该案例需要烧录香橙派官网ubuntu镜像，烧录流程参考[昇思MindSpore官网--香橙派开发专区--环境搭建指南--镜像烧录](https://www.mindspore.cn/docs/zh-CN/r2.4.10/orange_pi/environment_setup.html#1-%E9%95%9C%E5%83%8F%E7%83%A7%E5%BD%95%E4%BB%A5windows%E7%B3%BB%E7%BB%9F%E4%B8%BA%E4%BE%8B)章节。\n",
    "\n",
    "### CANN升级\n",
    "\n",
    "CANN升级参考[昇思MindSpore官网--香橙派开发专区--环境搭建指南--CANN升级](https://www.mindspore.cn/docs/zh-CN/r2.4.10/orange_pi/environment_setup.html#3-cann%E5%8D%87%E7%BA%A7)章节。\n",
    "\n",
    "### MindSpore升级\n",
    "\n",
    "MindSpore升级参考[昇思MindSpore官网--香橙派开发专区--环境搭建指南--MindSpore升级](https://www.mindspore.cn/docs/zh-CN/r2.4.10/orange_pi/environment_setup.html#4-mindspore%E5%8D%87%E7%BA%A7)章节。"
   ]
  },
  {
   "cell_type": "markdown",
   "id": "5ff6983a",
   "metadata": {},
   "source": [
    "## 设置运行环境\n",
    "\n",
    " max_device_memory=\"2GB\" : 设置设备可用的最大内存为2GB。\n",
    "\n",
    " mode=mindspore.GRAPH_MODE : 表示在GRAPH_MODE模式中运行。\n",
    "\n",
    " device_target=\"Ascend\" : 表示待运行的目标设备为Ascend。\n",
    "\n",
    " jit_config={\"jit_level\":\"O2\"} : 编译优化级别开启极致性能优化，使用下沉的执行方式。\n",
    "\n",
    " scend_config={\"precision_mode\":\"allow_mix_precision\"} : 自动混合精度，自动将部分算子的精度降低到float16或bfloat16。"
   ]
  },
  {
   "cell_type": "code",
   "execution_count": 1,
   "id": "72464b8e",
   "metadata": {
    "tags": []
   },
   "outputs": [
    {
     "name": "stderr",
     "output_type": "stream",
     "text": [
      "/home/mindspore/miniconda/envs/jupyter/lib/python3.9/site-packages/numpy/core/getlimits.py:549: UserWarning: The value of the smallest subnormal for <class 'numpy.float64'> type is zero.\n",
      "  setattr(self, word, getattr(machar, word).flat[0])\n",
      "/home/mindspore/miniconda/envs/jupyter/lib/python3.9/site-packages/numpy/core/getlimits.py:89: UserWarning: The value of the smallest subnormal for <class 'numpy.float64'> type is zero.\n",
      "  return self._float_to_str(self.smallest_subnormal)\n",
      "/home/mindspore/miniconda/envs/jupyter/lib/python3.9/site-packages/numpy/core/getlimits.py:549: UserWarning: The value of the smallest subnormal for <class 'numpy.float32'> type is zero.\n",
      "  setattr(self, word, getattr(machar, word).flat[0])\n",
      "/home/mindspore/miniconda/envs/jupyter/lib/python3.9/site-packages/numpy/core/getlimits.py:89: UserWarning: The value of the smallest subnormal for <class 'numpy.float32'> type is zero.\n",
      "  return self._float_to_str(self.smallest_subnormal)\n"
     ]
    }
   ],
   "source": [
    "import mindspore\n",
    "mindspore.set_context(max_device_memory=\"2GB\", mode=mindspore.GRAPH_MODE, device_target=\"Ascend\",  jit_config={\"jit_level\":\"O2\"}, ascend_config={\"precision_mode\":\"allow_mix_precision\"})"
   ]
  },
  {
   "cell_type": "markdown",
   "id": "1bd4ac0d-886b-44a0-b794-ef7c4d867a3e",
   "metadata": {},
   "source": [
    "## 数据处理"
   ]
  },
  {
   "cell_type": "markdown",
   "id": "eeded00a-794c-49f0-9d06-c1c43374bc78",
   "metadata": {
    "tags": []
   },
   "source": [
    "### 数据下载模块\n",
    "\n",
    "为了方便预训练词向量的下载，首先设计数据下载模块，实现可视化下载流程，并保存至指定路径。数据下载模块使用`requests`库进行http请求，并通过`tqdm`库对下载百分比进行可视化。此外针对下载安全性，使用IO的方式下载临时文件，而后保存至指定的路径并返回。\n",
    "\n",
    "> `tqdm`和`requests`库需手动安装，命令如下：`pip install tqdm requests`"
   ]
  },
  {
   "cell_type": "code",
   "execution_count": 2,
   "id": "0f145ba5-5259-4520-855f-691a76e93bac",
   "metadata": {
    "tags": []
   },
   "outputs": [
    {
     "name": "stdout",
     "output_type": "stream",
     "text": [
      "Looking in indexes: https://repo.huaweicloud.com/repository/pypi/simple/\n",
      "Requirement already satisfied: tqdm in /home/mindspore/miniconda/envs/jupyter/lib/python3.9/site-packages (4.66.5)\n",
      "Requirement already satisfied: requests in /home/mindspore/miniconda/envs/jupyter/lib/python3.9/site-packages (2.32.3)\n",
      "Requirement already satisfied: charset-normalizer<4,>=2 in /home/mindspore/miniconda/envs/jupyter/lib/python3.9/site-packages (from requests) (3.4.0)\n",
      "Requirement already satisfied: idna<4,>=2.5 in /home/mindspore/miniconda/envs/jupyter/lib/python3.9/site-packages (from requests) (3.10)\n",
      "Requirement already satisfied: urllib3<3,>=1.21.1 in /home/mindspore/miniconda/envs/jupyter/lib/python3.9/site-packages (from requests) (2.2.3)\n",
      "Requirement already satisfied: certifi>=2017.4.17 in /home/mindspore/miniconda/envs/jupyter/lib/python3.9/site-packages (from requests) (2024.8.30)\n"
     ]
    }
   ],
   "source": [
    "#install tqdm and requests\n",
    "\n",
    "!pip install tqdm requests"
   ]
  },
  {
   "cell_type": "code",
   "execution_count": 3,
   "id": "a11d2a34-fdea-4731-ac96-31968c23d575",
   "metadata": {
    "tags": []
   },
   "outputs": [],
   "source": [
    "import os\n",
    "import shutil\n",
    "import requests\n",
    "import tempfile\n",
    "from tqdm import tqdm\n",
    "from typing import IO\n",
    "# from pathlib import Path\n",
    "\n",
    "# 指定保存路径\n",
    "cache_dir = os.getcwd() + '/mindspore_examples'\n",
    "\n",
    "def http_get(url: str, temp_file: IO):\n",
    "    \"\"\"使用requests库下载数据，并使用tqdm库进行流程可视化\"\"\"\n",
    "    req = requests.get(url, stream=True)\n",
    "    content_length = req.headers.get('Content-Length')\n",
    "    total = int(content_length) if content_length is not None else None\n",
    "    progress = tqdm(unit='B', total=total)\n",
    "    for chunk in req.iter_content(chunk_size=1024):\n",
    "        if chunk:\n",
    "            progress.update(len(chunk))\n",
    "            temp_file.write(chunk)\n",
    "    progress.close()\n",
    "\n",
    "def downloads(file_name: str, url: str):\n",
    "    \"\"\"下载数据并存为指定名称\"\"\"\n",
    "    if not os.path.exists(cache_dir):\n",
    "        os.makedirs(cache_dir)\n",
    "    cache_path = os.path.join(cache_dir, file_name)\n",
    "    cache_exist = os.path.exists(cache_path)\n",
    "    if not cache_exist:\n",
    "        with tempfile.NamedTemporaryFile() as temp_file:\n",
    "            http_get(url, temp_file)\n",
    "            temp_file.flush()\n",
    "            temp_file.seek(0)\n",
    "            with open(cache_path, 'wb') as cache_file:\n",
    "                shutil.copyfileobj(temp_file, cache_file)\n",
    "    return cache_path"
   ]
  },
  {
   "cell_type": "markdown",
   "id": "45ee5b20-7547-4ca1-83fa-6ee083cc65a4",
   "metadata": {
    "tags": []
   },
   "source": [
    "### 加载预训练词向量\n",
    "\n",
    "预训练词向量是对输入单词的数值化表示，通过`nn.Embedding`层，采用查表的方式，输入单词对应词表中的index，获得对应的表达向量。\n",
    "因此进行模型构造前，需要将Embedding层所需的词向量和词表进行构造。这里我们使用Glove(Global Vectors for Word Representation)这种经典的预训练词向量，\n",
    "其数据格式如下：\n",
    "\n",
    "| Word |  Vector |  \n",
    "|:---|:---:|\n",
    "| the | 0.418 0.24968 -0.41242 0.1217 0.34527 -0.044457 -0.49688 -0.17862 -0.00066023 ...|\n",
    "| , | 0.013441 0.23682 -0.16899 0.40951 0.63812 0.47709 -0.42852 -0.55641 -0.364 ... |\n",
    "\n",
    "我们直接使用第一列的单词作为词表，使用`dataset.text.Vocab`将其按顺序加载；同时读取每一行的Vector并转为`numpy.array`，用于`nn.Embedding`加载权重使用。具体实现如下："
   ]
  },
  {
   "cell_type": "code",
   "execution_count": 4,
   "id": "519a863f-4053-4c20-93e2-b0acac829372",
   "metadata": {
    "tags": []
   },
   "outputs": [],
   "source": [
    "import zipfile\n",
    "import numpy as np\n",
    "import mindspore.dataset as ds\n",
    "\n",
    "def load_glove(glove_path):\n",
    "    glove_100d_path = os.path.join(cache_dir, 'glove.6B.100d.txt')\n",
    "    if not os.path.exists(glove_100d_path):\n",
    "        glove_zip = zipfile.ZipFile(glove_path)\n",
    "        glove_zip.extractall(cache_dir)\n",
    "\n",
    "    embeddings = []\n",
    "    tokens = []\n",
    "    with open(glove_100d_path, encoding='utf-8') as gf:\n",
    "        for glove in gf:\n",
    "            word, embedding = glove.split(maxsplit=1)\n",
    "            tokens.append(word)\n",
    "            embeddings.append(np.fromstring(embedding, dtype=np.float32, sep=' '))\n",
    "    # 添加 <unk>, <pad> 两个特殊占位符对应的embedding\n",
    "    embeddings.append(np.random.rand(100))\n",
    "    embeddings.append(np.zeros((100,), np.float32))\n",
    "\n",
    "    vocab = ds.text.Vocab.from_list(tokens, special_tokens=[\"<unk>\", \"<pad>\"], special_first=False)\n",
    "    embeddings = np.array(embeddings).astype(np.float32)\n",
    "    return vocab, embeddings"
   ]
  },
  {
   "cell_type": "markdown",
   "id": "7fa216e1-db92-4c74-868a-b0a1889810f3",
   "metadata": {},
   "source": [
    "由于数据集中可能存在词表没有覆盖的单词，因此需要加入`<unk>`标记符；同时由于输入长度的不一致，在打包为一个batch时需要将短的文本进行填充，因此需要加入`<pad>`标记符。完成后的词表长度为原词表长度+2。\n",
    "\n",
    "下面下载Glove词向量，并加载生成词表和词向量权重矩阵。"
   ]
  },
  {
   "cell_type": "code",
   "execution_count": null,
   "id": "34ca0aee-7deb-45ea-8231-2be5f9c2e632",
   "metadata": {
    "tags": []
   },
   "outputs": [
    {
     "name": "stderr",
     "output_type": "stream",
     "text": [
      "100%|██████████| 862182613/862182613 [00:21<00:00, 39396514.94B/s]\n"
     ]
    },
    {
     "data": {
      "text/plain": [
       "400002"
      ]
     },
     "execution_count": 5,
     "metadata": {},
     "output_type": "execute_result"
    }
   ],
   "source": [
    "glove_path = downloads('glove.6B.zip', 'https://mindspore-website.obs.myhuaweicloud.com/notebook/datasets/glove.6B.zip')\n",
    "vocab, embeddings = load_glove(glove_path)\n",
    "len(vocab.vocab())"
   ]
  },
  {
   "cell_type": "markdown",
   "id": "0f199e78-e711-4801-87f0-a099289bdfc1",
   "metadata": {},
   "source": [
    "使用词表将`the`转换为index id，并查询词向量矩阵对应的词向量："
   ]
  },
  {
   "cell_type": "code",
   "execution_count": 6,
   "id": "b12e8554-496c-4f35-a0bc-67a3f60ff488",
   "metadata": {
    "tags": []
   },
   "outputs": [
    {
     "data": {
      "text/plain": [
       "(0,\n",
       " array([-0.038194, -0.24487 ,  0.72812 , -0.39961 ,  0.083172,  0.043953,\n",
       "        -0.39141 ,  0.3344  , -0.57545 ,  0.087459,  0.28787 , -0.06731 ,\n",
       "         0.30906 , -0.26384 , -0.13231 , -0.20757 ,  0.33395 , -0.33848 ,\n",
       "        -0.31743 , -0.48336 ,  0.1464  , -0.37304 ,  0.34577 ,  0.052041,\n",
       "         0.44946 , -0.46971 ,  0.02628 , -0.54155 , -0.15518 , -0.14107 ,\n",
       "        -0.039722,  0.28277 ,  0.14393 ,  0.23464 , -0.31021 ,  0.086173,\n",
       "         0.20397 ,  0.52624 ,  0.17164 , -0.082378, -0.71787 , -0.41531 ,\n",
       "         0.20335 , -0.12763 ,  0.41367 ,  0.55187 ,  0.57908 , -0.33477 ,\n",
       "        -0.36559 , -0.54857 , -0.062892,  0.26584 ,  0.30205 ,  0.99775 ,\n",
       "        -0.80481 , -3.0243  ,  0.01254 , -0.36942 ,  2.2167  ,  0.72201 ,\n",
       "        -0.24978 ,  0.92136 ,  0.034514,  0.46745 ,  1.1079  , -0.19358 ,\n",
       "        -0.074575,  0.23353 , -0.052062, -0.22044 ,  0.057162, -0.15806 ,\n",
       "        -0.30798 , -0.41625 ,  0.37972 ,  0.15006 , -0.53212 , -0.2055  ,\n",
       "        -1.2526  ,  0.071624,  0.70565 ,  0.49744 , -0.42063 ,  0.26148 ,\n",
       "        -1.538   , -0.30223 , -0.073438, -0.28312 ,  0.37104 , -0.25217 ,\n",
       "         0.016215, -0.017099, -0.38984 ,  0.87424 , -0.72569 , -0.51058 ,\n",
       "        -0.52028 , -0.1459  ,  0.8278  ,  0.27062 ], dtype=float32))"
      ]
     },
     "execution_count": 6,
     "metadata": {},
     "output_type": "execute_result"
    }
   ],
   "source": [
    "idx = vocab.tokens_to_ids('the')\n",
    "embedding = embeddings[idx]\n",
    "idx, embedding"
   ]
  },
  {
   "cell_type": "markdown",
   "id": "bfab4316-c35d-430d-bfaa-7af9b4f5b736",
   "metadata": {},
   "source": [
    "## 模型构建\n",
    "\n",
    "用于情感分类的模型结构，首先需要将输入文本(即序列化后的index id列表)通过查表转为向量化表示，此时需要使用`nn.Embedding`层加载Glove词向量；然后使用RNN循环神经网络做特征提取；最后将RNN连接至一个全连接层，即`nn.Dense`，将特征转化为与分类数量相同的size，用于后续进行模型优化训练。整体模型结构如下：\n",
    "\n",
    "```text\n",
    "nn.Embedding -> nn.RNN -> nn.Dense\n",
    "```\n",
    "\n",
    "这里我们使用能够一定程度规避RNN梯度消失问题的变种LSTM(Long short-term memory)做特征提取层。下面对模型进行详解："
   ]
  },
  {
   "cell_type": "markdown",
   "id": "f64cdfd1-4fef-4394-a4ea-e5e7b509a9cc",
   "metadata": {},
   "source": [
    "### Embedding\n",
    "\n",
    "Embedding层又可称为EmbeddingLookup层，其作用是使用index id对权重矩阵对应id的向量进行查找，当输入为一个由index id组成的序列时，则查找并返回一个相同长度的矩阵，例如：\n",
    "\n",
    "```text\n",
    "embedding = nn.Embedding(1000, 100) # 词表大小(index的取值范围)为1000，表示向量的size为100\n",
    "input shape: (1, 16)                # 序列长度为16\n",
    "output shape: (1, 16, 100)\n",
    "```\n",
    "\n",
    "这里我们使用前文处理好的Glove词向量矩阵，设置`nn.Embedding`的`embedding_table`为预训练词向量矩阵。对应的`vocab_size`为词表大小400002，`embedding_size`为选用的`glove.6B.100d`向量大小，即100。\n",
    "\n",
    "### RNN(循环神经网络)\n",
    "\n",
    "循环神经网络（Recurrent Neural Network, RNN）是一类以序列（sequence）数据为输入，在序列的演进方向进行递归（recursion）且所有节点（循环单元）按链式连接的神经网络。下图为RNN的一般结构：\n",
    "\n",
    "![RNN-0](https://mindspore-website.obs.cn-north-4.myhuaweicloud.com/website-images/r2.2/tutorials/application/source_zh_cn/nlp/images/0-RNN-0.png)\n",
    "\n",
    "> 图示左侧为一个RNN Cell循环，右侧为RNN的链式连接平铺。实际上不管是单个RNN Cell还是一个RNN网络，都只有一个Cell的参数，在不断进行循环计算中更新。\n",
    "\n",
    "由于RNN的循环特性，和自然语言文本的序列特性(句子是由单词组成的序列)十分匹配，因此被大量应用于自然语言处理研究中。下图为RNN的结构拆解：\n",
    "\n",
    "![RNN](https://mindspore-website.obs.cn-north-4.myhuaweicloud.com/website-images/r2.2/tutorials/application/source_zh_cn/nlp/images/0-RNN.png)\n",
    "\n",
    "RNN单个Cell的结构简单，因此也造成了梯度消失(Gradient Vanishing)问题，具体表现为RNN网络在序列较长时，在序列尾部已经基本丢失了序列首部的信息。为了克服这一问题，LSTM(Long short-term memory)被提出，通过门控机制(Gating Mechanism)来控制信息流在每个循环步中的留存和丢弃。下图为LSTM的结构拆解：\n",
    "\n",
    "![LSTM](https://mindspore-website.obs.cn-north-4.myhuaweicloud.com/website-images/r2.2/tutorials/application/source_zh_cn/nlp/images/0-LSTM.png)\n",
    "\n",
    "本案例我们选择LSTM变种而不是经典的RNN做特征提取，来规避梯度消失问题，并获得更好的模型效果。下面来看MindSpore中`nn.LSTM`对应的公式：\n",
    "\n",
    "$$h_{0:t}, (h_t, c_t) = \\text{LSTM}(x_{0:t}, (h_0, c_0))$$\n",
    "\n",
    "这里`nn.LSTM`隐藏了整个循环神经网络在序列时间步(Time step)上的循环，送入输入序列、初始状态，即可获得每个时间步的隐状态(hidden state)拼接而成的矩阵，以及最后一个时间步对应的隐状态。我们使用最后的一个时间步的隐状态作为输入句子的编码特征，送入下一层。\n",
    "\n",
    "> Time step：在循环神经网络计算的每一次循环，成为一个Time step。在送入文本序列时，一个Time step对应一个单词。因此在本例中，LSTM的输出$h_{0:t}$对应每个单词的隐状态集合，$h_t$和$c_t$对应最后一个单词对应的隐状态。\n",
    "\n",
    "### Dense\n",
    "\n",
    "在经过LSTM编码获取句子特征后，将其送入一个全连接层，即`nn.Dense`，将特征维度变换为二分类所需的维度1，经过Dense层后的输出即为模型预测结果。"
   ]
  },
  {
   "cell_type": "code",
   "execution_count": 7,
   "id": "c0f1e26d-1b7c-4d50-947d-4fdda527b651",
   "metadata": {
    "tags": []
   },
   "outputs": [],
   "source": [
    "import math\n",
    "import mindspore as ms\n",
    "import mindspore.nn as nn\n",
    "import mindspore.ops as ops\n",
    "from mindspore.common.initializer import Uniform, HeUniform\n",
    "\n",
    "class RNN(nn.Cell):\n",
    "    def __init__(self, embeddings, hidden_dim, output_dim, n_layers,\n",
    "                 bidirectional, pad_idx):\n",
    "        super().__init__()\n",
    "        vocab_size, embedding_dim = embeddings.shape\n",
    "        self.embedding = nn.Embedding(vocab_size, embedding_dim, embedding_table=ms.Tensor(embeddings), padding_idx=pad_idx)\n",
    "        self.rnn = nn.LSTM(embedding_dim,\n",
    "                           hidden_dim,\n",
    "                           num_layers=n_layers,\n",
    "                           bidirectional=bidirectional,\n",
    "                           batch_first=True)\n",
    "        weight_init = HeUniform(math.sqrt(5))\n",
    "        bias_init = Uniform(1 / math.sqrt(hidden_dim * 2))\n",
    "        self.fc = nn.Dense(hidden_dim * 2, output_dim, weight_init=weight_init, bias_init=bias_init)\n",
    "\n",
    "    def construct(self, inputs):\n",
    "        embedded = self.embedding(inputs)\n",
    "        _, (hidden, _) = self.rnn(embedded)\n",
    "        hidden = ops.concat((hidden[-2, :, :], hidden[-1, :, :]), axis=1)\n",
    "        output = self.fc(hidden)\n",
    "        return output"
   ]
  },
  {
   "cell_type": "code",
   "execution_count": 8,
   "id": "591b1301-e9e3-44eb-a88b-09d2e807f9f9",
   "metadata": {
    "tags": []
   },
   "outputs": [],
   "source": [
    "hidden_size = 256\n",
    "output_size = 1\n",
    "num_layers = 2\n",
    "bidirectional = True\n",
    "pad_idx = vocab.tokens_to_ids('<pad>')\n",
    "\n",
    "model = RNN(embeddings, hidden_size, output_size, num_layers, bidirectional, pad_idx)"
   ]
  },
  {
   "cell_type": "markdown",
   "id": "9ccc7b0d-9055-4cab-9b6d-46bc0b06f60a",
   "metadata": {},
   "source": [
    "## 模型加载\n",
    "使用MindSpore提供的Checkpoint加载和网络权重加载接口：1.将保存的模型Checkpoint加载到内存中，2.将Checkpoint加载至模型。\n",
    "\n",
    "> `load_param_into_net`接口会返回模型中没有和Checkpoint匹配的权重名，正确匹配时返回空列表。"
   ]
  },
  {
   "cell_type": "code",
   "execution_count": 9,
   "id": "e1642eaf-0d7e-478b-88cf-8095a18223c5",
   "metadata": {},
   "outputs": [
    {
     "name": "stdout",
     "output_type": "stream",
     "text": [
      "Looking in indexes: https://repo.huaweicloud.com/repository/pypi/simple/\n",
      "Requirement already satisfied: download in /home/mindspore/miniconda/envs/jupyter/lib/python3.9/site-packages (0.3.5)\n",
      "Requirement already satisfied: tqdm in /home/mindspore/miniconda/envs/jupyter/lib/python3.9/site-packages (from download) (4.66.5)\n",
      "Requirement already satisfied: six in /home/mindspore/miniconda/envs/jupyter/lib/python3.9/site-packages (from download) (1.16.0)\n",
      "Requirement already satisfied: requests in /home/mindspore/miniconda/envs/jupyter/lib/python3.9/site-packages (from download) (2.32.3)\n",
      "Requirement already satisfied: charset-normalizer<4,>=2 in /home/mindspore/miniconda/envs/jupyter/lib/python3.9/site-packages (from requests->download) (3.4.0)\n",
      "Requirement already satisfied: idna<4,>=2.5 in /home/mindspore/miniconda/envs/jupyter/lib/python3.9/site-packages (from requests->download) (3.10)\n",
      "Requirement already satisfied: urllib3<3,>=1.21.1 in /home/mindspore/miniconda/envs/jupyter/lib/python3.9/site-packages (from requests->download) (2.2.3)\n",
      "Requirement already satisfied: certifi>=2017.4.17 in /home/mindspore/miniconda/envs/jupyter/lib/python3.9/site-packages (from requests->download) (2024.8.30)\n"
     ]
    }
   ],
   "source": [
    "#install download\n",
    "\n",
    "!pip install download"
   ]
  },
  {
   "cell_type": "code",
   "execution_count": null,
   "id": "d477ec12-04ff-488b-8d31-ae82e5e9be2f",
   "metadata": {
    "tags": []
   },
   "outputs": [],
   "source": [
    "# download ckpt\n",
    "from download import download\n",
    "rnn_url = \"https://modelers.cn/coderepo/web/v1/file/MindSpore-Lab/cluoud_obs/main/media/examples/mindspore-courses/orange-pi-online-infer/07-RNN/sentiment-analysis.ckpt\"\n",
    "path = \"./sentiment-analysis.ckpt\"\n",
    "ckpt_path = download(rnn_url, path, replace=True)\n",
    "\n",
    "param_dict = ms.load_checkpoint(ckpt_path)\n",
    "ms.load_param_into_net(model, param_dict)"
   ]
  },
  {
   "cell_type": "markdown",
   "id": "0f5be370-edc3-4453-802a-f5eea34cd77f",
   "metadata": {},
   "source": [
    "## 自定义输入测试\n",
    "\n",
    "最后我们设计一个预测函数，实现开头描述的效果，输入一句评价，获得评价的情感分类。具体包含以下步骤:\n",
    "\n",
    "1. 将输入句子进行分词；\n",
    "2. 使用词表获取对应的index id序列；\n",
    "3. index id序列转为Tensor；\n",
    "4. 送入模型获得预测结果；\n",
    "5. 打印输出预测结果。\n",
    "\n",
    "具体实现如下："
   ]
  },
  {
   "cell_type": "code",
   "execution_count": 11,
   "id": "b35902c6-84a3-4879-8fde-2d6f322f49eb",
   "metadata": {
    "tags": []
   },
   "outputs": [],
   "source": [
    "score_map = {\n",
    "    1: \"Positive\",\n",
    "    0: \"Negative\"\n",
    "}\n",
    "\n",
    "def predict_sentiment(model, vocab, sentence):\n",
    "    model.set_train(False)\n",
    "    tokenized = sentence.lower().split()\n",
    "    indexed = vocab.tokens_to_ids(tokenized)\n",
    "    tensor = ms.Tensor(indexed, ms.int32)\n",
    "    tensor = tensor.expand_dims(0)\n",
    "    prediction = model(tensor)\n",
    "    return score_map[int(np.round(ops.sigmoid(prediction).asnumpy()))]"
   ]
  },
  {
   "cell_type": "markdown",
   "id": "68b87324-889b-4061-888c-4cd260f5c1d8",
   "metadata": {},
   "source": [
    "最后我们预测开头的样例，可以看到模型可以很好地将评价语句的情感进行分类。"
   ]
  },
  {
   "cell_type": "code",
   "execution_count": 12,
   "id": "4f6ea007-96a9-4b7c-9f5c-59329c0c7de9",
   "metadata": {
    "tags": []
   },
   "outputs": [
    {
     "name": "stderr",
     "output_type": "stream",
     "text": [
      "[ERROR] CORE(11519,ffff87a57b80,python):2025-02-22-07:39:11.372.155 [mindspore/core/utils/file_utils.cc:253] GetRealPath] Get realpath failed, path[/tmp/ipykernel_11519/1184826325.py]\n",
      "[WARNING] CORE(11519,ffff87a57b80,python):2025-02-22-07:39:11.372.231 [mindspore/core/utils/info.cc:120] ToString] The file '/tmp/ipykernel_11519/1184826325.py' may not exists.\n",
      "[ERROR] CORE(11519,ffff87a57b80,python):2025-02-22-07:39:11.372.420 [mindspore/core/utils/file_utils.cc:253] GetRealPath] Get realpath failed, path[/tmp/ipykernel_11519/1184826325.py]\n",
      "[WARNING] CORE(11519,ffff87a57b80,python):2025-02-22-07:39:11.372.443 [mindspore/core/utils/info.cc:120] ToString] The file '/tmp/ipykernel_11519/1184826325.py' may not exists.\n",
      "[ERROR] CORE(11519,ffff87a57b80,python):2025-02-22-07:39:11.373.577 [mindspore/core/utils/file_utils.cc:253] GetRealPath] Get realpath failed, path[/tmp/ipykernel_11519/1184826325.py]\n",
      "[WARNING] CORE(11519,ffff87a57b80,python):2025-02-22-07:39:11.373.600 [mindspore/core/utils/info.cc:120] ToString] The file '/tmp/ipykernel_11519/1184826325.py' may not exists.\n",
      "[ERROR] CORE(11519,ffff87a57b80,python):2025-02-22-07:39:11.373.682 [mindspore/core/utils/file_utils.cc:253] GetRealPath] Get realpath failed, path[/tmp/ipykernel_11519/1184826325.py]\n",
      "[WARNING] CORE(11519,ffff87a57b80,python):2025-02-22-07:39:11.373.702 [mindspore/core/utils/info.cc:120] ToString] The file '/tmp/ipykernel_11519/1184826325.py' may not exists.\n",
      "[ERROR] CORE(11519,ffff87a57b80,python):2025-02-22-07:39:11.373.758 [mindspore/core/utils/file_utils.cc:253] GetRealPath] Get realpath failed, path[/tmp/ipykernel_11519/1184826325.py]\n",
      "[WARNING] CORE(11519,ffff87a57b80,python):2025-02-22-07:39:11.373.778 [mindspore/core/utils/info.cc:120] ToString] The file '/tmp/ipykernel_11519/1184826325.py' may not exists.\n",
      "[ERROR] CORE(11519,ffff87a57b80,python):2025-02-22-07:39:11.373.879 [mindspore/core/utils/file_utils.cc:253] GetRealPath] Get realpath failed, path[/tmp/ipykernel_11519/1184826325.py]\n",
      "[WARNING] CORE(11519,ffff87a57b80,python):2025-02-22-07:39:11.373.899 [mindspore/core/utils/info.cc:120] ToString] The file '/tmp/ipykernel_11519/1184826325.py' may not exists.\n",
      "[ERROR] CORE(11519,ffff87a57b80,python):2025-02-22-07:39:11.373.952 [mindspore/core/utils/file_utils.cc:253] GetRealPath] Get realpath failed, path[/tmp/ipykernel_11519/1184826325.py]\n",
      "[WARNING] CORE(11519,ffff87a57b80,python):2025-02-22-07:39:11.373.971 [mindspore/core/utils/info.cc:120] ToString] The file '/tmp/ipykernel_11519/1184826325.py' may not exists.\n",
      "[ERROR] CORE(11519,ffff87a57b80,python):2025-02-22-07:39:11.374.035 [mindspore/core/utils/file_utils.cc:253] GetRealPath] Get realpath failed, path[/tmp/ipykernel_11519/1184826325.py]\n",
      "[WARNING] CORE(11519,ffff87a57b80,python):2025-02-22-07:39:11.374.056 [mindspore/core/utils/info.cc:120] ToString] The file '/tmp/ipykernel_11519/1184826325.py' may not exists.\n",
      "[ERROR] CORE(11519,ffff87a57b80,python):2025-02-22-07:39:11.374.119 [mindspore/core/utils/file_utils.cc:253] GetRealPath] Get realpath failed, path[/tmp/ipykernel_11519/1184826325.py]\n",
      "[WARNING] CORE(11519,ffff87a57b80,python):2025-02-22-07:39:11.374.139 [mindspore/core/utils/info.cc:120] ToString] The file '/tmp/ipykernel_11519/1184826325.py' may not exists.\n",
      "[ERROR] CORE(11519,ffff87a57b80,python):2025-02-22-07:39:11.374.246 [mindspore/core/utils/file_utils.cc:253] GetRealPath] Get realpath failed, path[/tmp/ipykernel_11519/1184826325.py]\n",
      "[WARNING] CORE(11519,ffff87a57b80,python):2025-02-22-07:39:11.374.265 [mindspore/core/utils/info.cc:120] ToString] The file '/tmp/ipykernel_11519/1184826325.py' may not exists.\n",
      "[ERROR] CORE(11519,ffff87a57b80,python):2025-02-22-07:39:11.374.326 [mindspore/core/utils/file_utils.cc:253] GetRealPath] Get realpath failed, path[/tmp/ipykernel_11519/1184826325.py]\n",
      "[WARNING] CORE(11519,ffff87a57b80,python):2025-02-22-07:39:11.374.346 [mindspore/core/utils/info.cc:120] ToString] The file '/tmp/ipykernel_11519/1184826325.py' may not exists.\n",
      "[ERROR] CORE(11519,ffff87a57b80,python):2025-02-22-07:39:11.375.740 [mindspore/core/utils/file_utils.cc:253] GetRealPath] Get realpath failed, path[/tmp/ipykernel_11519/1184826325.py]\n",
      "[WARNING] CORE(11519,ffff87a57b80,python):2025-02-22-07:39:11.375.761 [mindspore/core/utils/info.cc:120] ToString] The file '/tmp/ipykernel_11519/1184826325.py' may not exists.\n",
      "[ERROR] CORE(11519,ffff87a57b80,python):2025-02-22-07:39:11.375.808 [mindspore/core/utils/file_utils.cc:253] GetRealPath] Get realpath failed, path[/tmp/ipykernel_11519/1184826325.py]\n",
      "[WARNING] CORE(11519,ffff87a57b80,python):2025-02-22-07:39:11.375.827 [mindspore/core/utils/info.cc:120] ToString] The file '/tmp/ipykernel_11519/1184826325.py' may not exists.\n",
      "[ERROR] CORE(11519,ffff87a57b80,python):2025-02-22-07:39:11.375.881 [mindspore/core/utils/file_utils.cc:253] GetRealPath] Get realpath failed, path[/tmp/ipykernel_11519/1184826325.py]\n",
      "[WARNING] CORE(11519,ffff87a57b80,python):2025-02-22-07:39:11.375.900 [mindspore/core/utils/info.cc:120] ToString] The file '/tmp/ipykernel_11519/1184826325.py' may not exists.\n",
      "[ERROR] CORE(11519,ffff87a57b80,python):2025-02-22-07:39:11.375.943 [mindspore/core/utils/file_utils.cc:253] GetRealPath] Get realpath failed, path[/tmp/ipykernel_11519/1184826325.py]\n",
      "[WARNING] CORE(11519,ffff87a57b80,python):2025-02-22-07:39:11.375.962 [mindspore/core/utils/info.cc:120] ToString] The file '/tmp/ipykernel_11519/1184826325.py' may not exists.\n",
      "[ERROR] CORE(11519,ffff87a57b80,python):2025-02-22-07:39:11.376.020 [mindspore/core/utils/file_utils.cc:253] GetRealPath] Get realpath failed, path[/tmp/ipykernel_11519/1184826325.py]\n",
      "[WARNING] CORE(11519,ffff87a57b80,python):2025-02-22-07:39:11.376.040 [mindspore/core/utils/info.cc:120] ToString] The file '/tmp/ipykernel_11519/1184826325.py' may not exists.\n",
      "[ERROR] CORE(11519,ffff87a57b80,python):2025-02-22-07:39:11.376.081 [mindspore/core/utils/file_utils.cc:253] GetRealPath] Get realpath failed, path[/tmp/ipykernel_11519/1184826325.py]\n",
      "[WARNING] CORE(11519,ffff87a57b80,python):2025-02-22-07:39:11.376.100 [mindspore/core/utils/info.cc:120] ToString] The file '/tmp/ipykernel_11519/1184826325.py' may not exists.\n",
      "[ERROR] CORE(11519,ffff87a57b80,python):2025-02-22-07:39:11.376.155 [mindspore/core/utils/file_utils.cc:253] GetRealPath] Get realpath failed, path[/tmp/ipykernel_11519/1184826325.py]\n",
      "[WARNING] CORE(11519,ffff87a57b80,python):2025-02-22-07:39:11.376.174 [mindspore/core/utils/info.cc:120] ToString] The file '/tmp/ipykernel_11519/1184826325.py' may not exists.\n",
      "[ERROR] CORE(11519,ffff87a57b80,python):2025-02-22-07:39:11.376.217 [mindspore/core/utils/file_utils.cc:253] GetRealPath] Get realpath failed, path[/tmp/ipykernel_11519/1184826325.py]\n",
      "[WARNING] CORE(11519,ffff87a57b80,python):2025-02-22-07:39:11.376.236 [mindspore/core/utils/info.cc:120] ToString] The file '/tmp/ipykernel_11519/1184826325.py' may not exists.\n"
     ]
    },
    {
     "name": "stdout",
     "output_type": "stream",
     "text": [
      "\\\r"
     ]
    },
    {
     "data": {
      "text/plain": [
       "'Negative'"
      ]
     },
     "execution_count": 12,
     "metadata": {},
     "output_type": "execute_result"
    }
   ],
   "source": [
    "predict_sentiment(model, vocab, \"This film is terrible\")"
   ]
  },
  {
   "cell_type": "code",
   "execution_count": 13,
   "id": "d6d9108e-8151-4ccc-a433-b33f437f1c24",
   "metadata": {
    "tags": []
   },
   "outputs": [
    {
     "data": {
      "text/plain": [
       "'Positive'"
      ]
     },
     "execution_count": 13,
     "metadata": {},
     "output_type": "execute_result"
    }
   ],
   "source": [
    "predict_sentiment(model, vocab, \"This film is great\")"
   ]
  }
 ],
 "metadata": {
  "kernelspec": {
   "display_name": "Python 3 (ipykernel)",
   "language": "python",
   "name": "python3"
  },
  "language_info": {
   "codemirror_mode": {
    "name": "ipython",
    "version": 3
   },
   "file_extension": ".py",
   "mimetype": "text/x-python",
   "name": "python",
   "nbconvert_exporter": "python",
   "pygments_lexer": "ipython3",
   "version": "3.7.9"
  },
  "vscode": {
   "interpreter": {
    "hash": "daf11ff21901010d76a413b98ce5bf702d1de4e9575dab37ba3694ffd67aa4ba"
   }
  }
 },
 "nbformat": 4,
 "nbformat_minor": 5
}
