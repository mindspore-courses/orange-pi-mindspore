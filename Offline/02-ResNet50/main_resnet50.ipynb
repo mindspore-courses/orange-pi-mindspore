{
 "cells": [
  {
   "cell_type": "markdown",
   "id": "be1936a1",
   "metadata": {},
   "source": [
    "# 基于昇思MindSpore+Orangepi AIpro的ResNet50图像分类\n",
    "\n",
    "功能：使用基于昇思MindSpore框架开发的ResNet50实现图片分类。  \n",
    "样例输入：原始图片。   \n",
    "样例输出：图片分类的结果。"
   ]
  },
  {
   "cell_type": "markdown",
   "id": "97f89a7a",
   "metadata": {},
   "source": [
    "# 前期准备\n",
    "\n",
    "* 基础镜像的样例目录中已包含转换后的om模型以及测试图片，如果直接运行，可跳过此步骤。如果需要重新转换模型，可以参考下面的步骤。\n",
    "* **建议在Linux服务器或者虚拟机转换该模型。**\n",
    "* 为了能进一步优化模型推理性能，我们需要将其转换为om模型进行使用；**转换指导详见全流程实验指导。**"
   ]
  },
  {
   "cell_type": "markdown",
   "id": "4fc6880a",
   "metadata": {},
   "source": [
    "# 模型推理实现\n",
    "\n",
    "* 注意：本案例在离线推理的过程中可能会出现内存不足的问题，可以根据情况查看FAQ文档中的解决方案。"
   ]
  },
  {
   "cell_type": "markdown",
   "id": "82e7b4fc",
   "metadata": {},
   "source": [
    "### 1. 导入三方库"
   ]
  },
  {
   "cell_type": "code",
   "execution_count": 1,
   "id": "234f0d2f",
   "metadata": {},
   "outputs": [],
   "source": [
    "import numpy as np\n",
    "import cv2\n",
    "import matplotlib.pyplot as plt\n",
    "\n",
    "import acl\n",
    "import acllite_utils as utils\n",
    "import constants as const\n",
    "from acllite_imageproc import AclLiteImageProc\n",
    "from acllite_model import AclLiteModel\n",
    "from acllite_resource import resource_list\n",
    "\n",
    "import mindspore as ms\n",
    "import mindspore.dataset as ds\n",
    "from mindspore.dataset import vision"
   ]
  },
  {
   "cell_type": "markdown",
   "id": "245196ca",
   "metadata": {},
   "source": [
    "### 2. 定义acllite资源初始化与去初始化类"
   ]
  },
  {
   "cell_type": "code",
   "execution_count": 2,
   "id": "f5f2d3fe",
   "metadata": {},
   "outputs": [],
   "source": [
    "class AclLiteResource:\n",
    "    \"\"\"\n",
    "    AclLiteResource\n",
    "    \"\"\"\n",
    "    def __init__(self, device_id=0):\n",
    "        self.device_id = device_id\n",
    "        self.context = None\n",
    "        self.stream = None\n",
    "        self.run_mode = None\n",
    "        \n",
    "    def init(self):\n",
    "        \"\"\"\n",
    "        init resource\n",
    "        \"\"\"\n",
    "        print(\"init resource stage:\")\n",
    "        ret = acl.init()\n",
    "\n",
    "        ret = acl.rt.set_device(self.device_id)\n",
    "        utils.check_ret(\"acl.rt.set_device\", ret)\n",
    "\n",
    "        self.context, ret = acl.rt.create_context(self.device_id)\n",
    "        utils.check_ret(\"acl.rt.create_context\", ret)\n",
    "\n",
    "        self.stream, ret = acl.rt.create_stream()\n",
    "        utils.check_ret(\"acl.rt.create_stream\", ret)\n",
    "\n",
    "        self.run_mode, ret = acl.rt.get_run_mode()\n",
    "        utils.check_ret(\"acl.rt.get_run_mode\", ret)\n",
    "\n",
    "        print(\"Init resource success\")\n",
    "\n",
    "    def __del__(self):\n",
    "        print(\"acl resource release all resource\")\n",
    "        resource_list.destroy()\n",
    "        if self.stream:\n",
    "            print(\"acl resource release stream\")\n",
    "            acl.rt.destroy_stream(self.stream)\n",
    "\n",
    "        if self.context:\n",
    "            print(\"acl resource release context\")\n",
    "            acl.rt.destroy_context(self.context)\n",
    "\n",
    "        print(\"Reset acl device \", self.device_id)\n",
    "        acl.rt.reset_device(self.device_id)\n",
    "        print(\"Release acl resource success\")"
   ]
  },
  {
   "cell_type": "markdown",
   "id": "a7c6270b",
   "metadata": {},
   "source": [
    "### 3. 定义Resnet50类，包含前处理、推理等操作"
   ]
  },
  {
   "cell_type": "code",
   "execution_count": 3,
   "id": "824f39a0",
   "metadata": {},
   "outputs": [],
   "source": [
    "class Resnet50(object):\n",
    "    \"\"\"\n",
    "    class for Resnet50\n",
    "    \"\"\"\n",
    "    def __init__(self, model_path, model_width, model_height):\n",
    "        self._model_path = model_path\n",
    "        self._model_width = model_width\n",
    "        self._model_height = model_height\n",
    "        self.device_id = 0\n",
    "        self._dvpp = None\n",
    "        self._model = None\n",
    "\n",
    "    def init(self):\n",
    "        \"\"\"\n",
    "        Initialize\n",
    "        \"\"\"\n",
    "        # 初始化dvpp\n",
    "        self._dvpp = AclLiteImageProc()\n",
    "\n",
    "        # 加载模型\n",
    "        self._model = AclLiteModel(self._model_path)\n",
    "        return const.SUCCESS\n",
    "    \n",
    "    @utils.display_time\n",
    "    # 定义数据预处理函数\n",
    "    def pre_process(self, input_path):\n",
    "        # 利用Cifar10Dataset接口读取测试数据\n",
    "        dataset_predict = ds.Cifar10Dataset(dataset_dir=input_path, shuffle=False)\n",
    "        # 对数据进行预处理操作：调整数据尺寸、归一化、标准化、调整通道顺序。\n",
    "        image_test = [\n",
    "            vision.Resize((32, 32)),\n",
    "            vision.Rescale(1.0 / 255.0, 0.0),\n",
    "            vision.Normalize([0.4914, 0.4822, 0.4465], [0.2023, 0.1994, 0.2010]),\n",
    "            vision.HWC2CHW()\n",
    "                ]\n",
    "        dataset_predict = dataset_predict.map(image_test, 'image')\n",
    "        # 设置推理数据的batch\n",
    "        dataset_predict = dataset_predict.batch(4)\n",
    "\n",
    "        return dataset_predict\n",
    "    \n",
    "    @utils.display_time\n",
    "    def inference(self, input_path, dataset_predict1):\n",
    "        \"\"\"\n",
    "        model inference\n",
    "        \"\"\"\n",
    "        # 迭代读取数据\n",
    "        resized_image = next(dataset_predict1.create_dict_iterator())\n",
    "        images = resized_image[\"image\"]\n",
    "        labels = resized_image[\"label\"]\n",
    "        print(\"resized_image['label']: \", resized_image['label'])\n",
    "        result1 = ms.Tensor(resized_image['image'])\n",
    "        # 对数据进行推理\n",
    "        preds = self._model.execute([result1.asnumpy(), ])\n",
    "        \n",
    "        return images, labels, preds\n"
   ]
  },
  {
   "cell_type": "markdown",
   "id": "efe2a06b",
   "metadata": {},
   "source": [
    "### 4. 构造主函数，串联整个代码逻辑"
   ]
  },
  {
   "cell_type": "code",
   "execution_count": 2,
   "id": "154ee4b3",
   "metadata": {},
   "outputs": [
    {
     "name": "stdout",
     "output_type": "stream",
     "text": [
      "Creating data folder...\n",
      "Downloading data from https://mindspore-courses.obs.cn-north-4.myhuaweicloud.com/orange-pi-mindspore/03-ResNet50/cifar-10-batches-bin.zip (27.0 MB)\n",
      "\n",
      "file_sizes: 100%|██████████████████████████| 28.3M/28.3M [00:03<00:00, 7.52MB/s]\n",
      "Extracting zip file...\n",
      "Successfully downloaded / unzipped to ./datasets-cifar10-bin\n",
      "Downloading data from https://mindspore-courses.obs.cn-north-4.myhuaweicloud.com/orange-pi-mindspore/03-ResNet50/resnet50.zip (41.6 MB)\n",
      "\n",
      "file_sizes: 100%|██████████████████████████| 43.6M/43.6M [00:05<00:00, 7.29MB/s]\n",
      "Extracting zip file...\n",
      "Successfully downloaded / unzipped to ./model\n"
     ]
    },
    {
     "data": {
      "text/plain": [
       "'./model'"
      ]
     },
     "execution_count": 2,
     "metadata": {},
     "output_type": "execute_result"
    }
   ],
   "source": [
    "from download import download\n",
    "\n",
    "# 获取数据集\n",
    "dataset_url = \"https://mindspore-courses.obs.cn-north-4.myhuaweicloud.com/orange-pi-mindspore/03-ResNet50/cifar-10-batches-bin.zip\"\n",
    "download(dataset_url, \"./datasets-cifar10-bin\", kind=\"zip\", replace=True)\n",
    "\n",
    "# 获取模型om文件\n",
    "model_url = \"https://mindspore-courses.obs.cn-north-4.myhuaweicloud.com/orange-pi-mindspore/03-ResNet50/resnet50.zip\"\n",
    "download(model_url, \"./model\", kind=\"zip\", replace=True)"
   ]
  },
  {
   "cell_type": "code",
   "execution_count": 4,
   "id": "409c556a",
   "metadata": {},
   "outputs": [],
   "source": [
    "def main():\n",
    "\n",
    "    # 给定模型路径和输入模型的图片尺寸\n",
    "    MODEL_PATH = \"./model/resnet50.om\"\n",
    "    MODEL_WIDTH = 32\n",
    "    MODEL_HEIGHT = 32\n",
    "    # 初始化acl资源\n",
    "    acl_resource = AclLiteResource() \n",
    "    acl_resource.init()\n",
    "    \n",
    "    # 初始化 Resnet50 类\n",
    "    resnet50 = Resnet50(MODEL_PATH, MODEL_WIDTH, MODEL_HEIGHT)  # 构造模型对象\n",
    "    \n",
    "    # 初始化模型类变量\n",
    "    ret = resnet50.init()  \n",
    "    utils.check_ret(\"Resnet50.init \", ret)  \n",
    "    # 给定推理数据的路径\n",
    "    input_path = \"./datasets-cifar10-bin/cifar-10-batches-bin\"\n",
    "\n",
    "    print('===================')\n",
    "    # 调用数据预处理函数，对数据进行预处理\n",
    "    crop_and_paste_image = resnet50.pre_process(input_path)\n",
    "    \n",
    "    print(\"crop_and_paste_image: \", crop_and_paste_image)\n",
    "    # 进行推理\n",
    "    images, labels, result = resnet50.inference(input_path, crop_and_paste_image)\n",
    "    pred = np.argmax(result[0], axis=1)\n",
    "    print(\"pred: \", pred)\n",
    "    \n",
    "    classes = []\n",
    "\n",
    "    with open(input_path + \"/batches.meta.txt\", \"r\") as f:\n",
    "        for line in f:\n",
    "            line = line.rstrip()\n",
    "            if line:\n",
    "                classes.append(line)\n",
    "\n",
    "    # 显示图像及图像的预测值\n",
    "    plt.figure()\n",
    "    for i in range(4):\n",
    "        plt.subplot(2, 2, i + 1)\n",
    "        # 若预测正确，显示为蓝色；若预测错误，显示为红色\n",
    "        color = 'blue' if pred[i] == labels.asnumpy()[i] else 'red'\n",
    "        plt.title('predict:{}'.format(classes[pred[i]]), color=color)\n",
    "        picture_show = np.transpose(images.asnumpy()[i], (1, 2, 0))\n",
    "        mean = np.array([0.4914, 0.4822, 0.4465])\n",
    "        std = np.array([0.2023, 0.1994, 0.2010])\n",
    "        picture_show = std * picture_show + mean\n",
    "        picture_show = np.clip(picture_show, 0, 1)\n",
    "        plt.imshow(picture_show)\n",
    "        plt.axis('off')\n",
    "\n",
    "    plt.show()"
   ]
  },
  {
   "cell_type": "markdown",
   "id": "00d10204",
   "metadata": {},
   "source": [
    "### 5. 运行\n",
    "运行完成后，会显示推理后的图片，如下所示。"
   ]
  },
  {
   "cell_type": "code",
   "execution_count": 5,
   "id": "a5069cf3",
   "metadata": {},
   "outputs": [
    {
     "name": "stdout",
     "output_type": "stream",
     "text": [
      "init resource stage:\n",
      "Init resource success\n",
      "Init model resource start...\n",
      "[AclLiteModel] create model output dataset:\n",
      "malloc output 0, size 160\n",
      "Create model output dataset success\n",
      "Init model resource success\n",
      "===================\n",
      "crop_and_paste_image:  <mindspore.dataset.engine.datasets.BatchDataset object at 0xe7ff3e2cd9d0>\n",
      "resized_image['label']:  [3 8 8 0]\n",
      "pred:  [3 8 8 0]\n"
     ]
    },
    {
     "data": {
      "image/png": "[encoded data removed]",
      "text/plain": [
       "<Figure size 640x480 with 4 Axes>"
      ]
     },
     "metadata": {},
     "output_type": "display_data"
    },
    {
     "name": "stdout",
     "output_type": "stream",
     "text": [
      "acl resource release all resource\n",
      "dvpp resource release success\n",
      "AclLiteModel release source success\n",
      "acl resource release stream\n",
      "acl resource release context\n",
      "Reset acl device  0\n",
      "Release acl resource success\n"
     ]
    }
   ],
   "source": [
    "main()"
   ]
  },
  {
   "cell_type": "markdown",
   "id": "e2e907eb",
   "metadata": {},
   "source": [
    "# 样例总结\n",
    "\n",
    "我们来回顾一下以上代码，可以包括以下几个步骤：\n",
    "\n",
    "1. 初始化acl资源：在调用acl相关资源时，必须先初始化AscendCL，否则可能会导致后续系统内部资源初始化出错。  \n",
    "2. 推理：利用AclLiteModel.execute接口对图片进行推理。  \n",
    "3. 对推理结果进行后处理：包括两个步骤，即转换像素值值域以及将图片缩放到原图大小。  \n",
    "4. 可视化图片：利用plt将结果画出。"
   ]
  }
 ],
 "metadata": {
  "kernelspec": {
   "display_name": "Python 3 (ipykernel)",
   "language": "python",
   "name": "python3"
  },
  "language_info": {
   "codemirror_mode": {
    "name": "ipython",
    "version": 3
   },
   "file_extension": ".py",
   "mimetype": "text/x-python",
   "name": "python",
   "nbconvert_exporter": "python",
   "pygments_lexer": "ipython3",
   "version": "3.9.19"
  },
  "vscode": {
   "interpreter": {
    "hash": "5d4380103ee16a53c08c2072b2cf7372aea12e3655e7cb36be2874465cdcb878"
   }
  }
 },
 "nbformat": 4,
 "nbformat_minor": 5
}
